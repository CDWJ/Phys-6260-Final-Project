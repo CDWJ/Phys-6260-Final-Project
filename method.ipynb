{
 "cells": [
  {
   "cell_type": "markdown",
   "id": "e08b1acc-08d5-47fb-b5b5-1e2caedf60e2",
   "metadata": {},
   "source": [
    "Below is a picture about how this is being formulated in 3D. </br>\n",
    "<img src='./1.png' width=\"500\" height=\"600\"/> </br>"
   ]
  },
  {
   "cell_type": "markdown",
   "id": "0448a995-a863-442e-a531-1e161e9bfa8e",
   "metadata": {},
   "source": [
    "For 2D, there are two cases: TEz mode and TMz mode which stands for if the E field is parallel to the page or the H field is parallel to the page. We can just implement one of them and the other will directly follows.\n",
    "First, we see the two important Maxwell equation going to be used in this method:\n",
    "$$\n",
    "\\begin{array}{l}\n",
    "\\frac{\\partial \\vec{H}}{\\partial t}=-\\frac{1}{\\mu} \\nabla \\times \\vec{E}-\\frac{\\rho^{\\prime}}{\\mu} \\vec{H} \\\\\n",
    "\\frac{\\partial \\vec{E}}{\\partial t}=\\frac{1}{\\varepsilon} \\nabla \\times \\vec{H}-\\frac{\\sigma}{\\varepsilon} \\vec{E}\n",
    "\\end{array}\n",
    "$$\n",
    "These are the curl equations we'll use and from this we can derive the six equations for TEz and TMz mode:</br>\n",
    "__TMz mode__\n",
    "$$\n",
    "\\begin{split}\n",
    "        \\frac{\\partial H_x}{\\partial t} &= \\frac{1}{\\mu}\\left[-\\frac{\\partial E_z}{\\partial y} - \\left( M_x + \\sigma^*H_x\\right)\\right]\\\\\n",
    "        \\frac{\\partial H_y}{\\partial t} &= \\frac{1}{\\mu}\\left[\\frac{\\partial E_z}{\\partial x} - \\left( M_y + \\sigma^*H_y\\right)\\right]\\\\\n",
    "        \\frac{\\partial E_z}{\\partial t} &= \\frac{1}{\\varepsilon}\\left[\\frac{\\partial H_y}{\\partial x} - \\frac{\\partial H_x}{\\partial y} - \\left( J_z + \\sigma E_z\\right)\\right]\n",
    "\\end{split}\n",
    "$$\n",
    "__TEz mode__\n",
    "$$\n",
    "    \\begin{split}\n",
    "        \\frac{\\partial E_x}{\\partial t} &= \\frac{1}{\\varepsilon}\\left[\\frac{\\partial H_z}{\\partial y} - \\left( J_x + \\sigma E_x\\right)\\right]\\\\\n",
    "        \\frac{\\partial E_y}{\\partial t} &= \\frac{1}{\\varepsilon}\\left[-\\frac{\\partial H_z}{\\partial x} - \\left( J_y + \\sigma E_y\\right)\\right]\\\\\n",
    "        \\frac{\\partial H_z}{\\partial t} &= \\frac{1}{\\mu}\\left[\\frac{\\partial E_x}{\\partial y} - \\frac{\\partial E_y}{\\partial x} - \\left( M_z + \\sigma^* H_z\\right)\\right]\n",
    "    \\end{split}\n",
    "$$\n",
    "If we combine forward euler and leap frog method that consider either H or E as a middle time step in a stagger grid with same $\\Delta$ or resolution for simplicity, we can derive the following update formulas for TMz mode and since we don't implement TEz here, we ignore that as they should be very similar:\n",
    "$$\n",
    "Hx(m, n) = Chh(m, n) * Hx(m, n) - Chxe(m, n) * (Ez(m, n + 1) - Ez(m, n)); \\\\\n",
    "Hy(m, n) = Chh(m, n) * Hy(m, n) + Chye(m, n) * (Ez(m + 1, n) - Ez(m, n)); \\\\ \n",
    "Ez(m, n) = Cee(m, n) * Ez(m, n) + Ceh(m, n) * ((Hy(m, n) - Hy(m - 1, n)) - (Hx(m, n) - Hx(m, n - 1)));\\\\\n",
    "$$\n",
    "Notice that we assume it to be lossless material and non permiable, therefore, we have Chh and Cee to be 1.\n",
    "Here, Chxe, Chye and Ceh are the update coefficients. Since the only different for Chxe and Chye is the resolution and position, we call it Che here and later in the implementation, it need to splited. \n",
    "$$\n",
    "    \\begin{split}\n",
    "Ceh = \\frac{1}{\\varepsilon}\\frac{\\Delta_{t}}{\\Delta_x}\n",
    "& = \\frac{1}{\\varepsilon_r\\varepsilon_0}\\frac{n\\sqrt{\\varepsilon_0\\mu_0}}{n\\sqrt{\\varepsilon_0\\mu_0}}\\frac{\\Delta_{t}}{\\Delta_x}\n",
    " = \\frac{n\\sqrt{\\varepsilon_0\\mu_0}}{\\varepsilon_r\\varepsilon_0}\\frac{c\\Delta_{t}}{\\Delta_x}\n",
    " = \\frac{\\sqrt{\\varepsilon_0\\mu_0}}{\\varepsilon_r\\varepsilon_0}\\frac{c_0\\Delta_{t}}{\\Delta_x}\n",
    " = \\frac{\\eta_0}{\\varepsilon_r}\\bar{S}_x \\\\\n",
    "Che = \\frac{1}{\\mu}\\frac{\\Delta_{t}}{\\Delta_x} &=\n",
    "\\frac{1}{\\mu_r\\mu_0}\\frac{n\\sqrt{\\varepsilon_0\\mu_0}}{n\\sqrt{\\varepsilon_0\\mu_0}}\\frac{\\Delta_{t}}{\\Delta_x}\n",
    " = \\frac{n\\sqrt{\\varepsilon_0\\mu_0}}{\\mu_r\\mu_0}\\frac{c\\Delta_{t}}{\\Delta_x}\n",
    " = \\frac{\\sqrt{\\varepsilon_0\\mu_0}}{\\mu_r\\mu_0}\\frac{c_0\\Delta_{t}}{\\Delta_x}\n",
    " = \\frac{1}{\\eta_0\\mu_r}\\bar{S}_x,\n",
    "    \\end{split}\n",
    "$$\n",
    "where $\\eta_0 = \\sqrt{\\mu_0/\\varepsilon_0}$ is the free-space impedance, \n",
    "$n = \\sqrt{\\varepsilon_r\\mu_r}$ is the refractive index, \n",
    "$c_0$ is the speed of light in free space,\n",
    "and $\\bar{S}_x$ is the Courant number along $x$-direction in free space as we use the same resolution for x and y. \\\\\n",
    "Now we have all the equations needed and finally, we need to choose dt for updates. We just use the simple formula \n",
    "$$\n",
    "\\Delta t = \\frac{1}{\\sqrt{\\frac{1}{\\Delta_x^2} + \\frac{1}{\\Delta_y^2}}}\n",
    "$$\n",
    "We also may want to see why this works, and here is a illustration for this setting satisfing Ampere's Law. Forgive my awful handwritting and drawing...\n",
    "<img src='./2.jpeg' width=\"500\" height=\"600\"/> </br>\n"
   ]
  },
  {
   "cell_type": "markdown",
   "id": "85d8e74f-bcb6-4042-88bb-a5380a85b295",
   "metadata": {},
   "source": [
    "Because we use staggered grid, the number of data for the center field and the field on edge is different. This can be shown using the image attached below:\n",
    "<img src='./3.jpeg' width=\"500\" height=\"600\"/> </br>"
   ]
  },
  {
   "cell_type": "code",
   "execution_count": null,
   "id": "3b4cea7f-7eb9-44b6-9591-066926d0804e",
   "metadata": {},
   "outputs": [],
   "source": []
  }
 ],
 "metadata": {
  "kernelspec": {
   "display_name": "Python 3 (ipykernel)",
   "language": "python",
   "name": "python3"
  },
  "language_info": {
   "codemirror_mode": {
    "name": "ipython",
    "version": 3
   },
   "file_extension": ".py",
   "mimetype": "text/x-python",
   "name": "python",
   "nbconvert_exporter": "python",
   "pygments_lexer": "ipython3",
   "version": "3.12.2"
  }
 },
 "nbformat": 4,
 "nbformat_minor": 5
}
