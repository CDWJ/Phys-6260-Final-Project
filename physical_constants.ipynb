{
 "cells": [
  {
   "cell_type": "markdown",
   "metadata": {},
   "source": [
    "## Uniform charge density:\n",
    "From the B-field notebook where we calculate the current of a single one of the neutron stars, we found the current needed to be on the order of $10^{20}$ Amperes. For the sake of computational precision we want to consider a uniform electron density throughout the system so that electromagnetic forces can effect these currents to produce radiation. This is even more important due to our constraining $\\nabla \\cdot \\mathbf{E} = 0$. While this constraint means that our charge density $\\rho$ is zero, this can be explained by the gas having a roughly equal amount of positive and negative ions in the surrounding \"plasma\". Thus, local current densities would be nonzero. Choosing a uniform local current density of, let's say $10^{10}$ Amperes we can normalize all the currents in the system to $10^{10}=1$ without losing any information. To find the electron density in this cloud we solf for free electron density using the following drift velocity equation: $$v_{d}=\\frac{I}{neA}$$. We can set the cross sectional area, $A$ to the surface area of our neutron star where $A=4\\pi(11km)^{2}$. We can imagine the average drift velocity $v_{d}$ as being something like 0.5c. This gives us an expected electron number density of 273,844 free electrons per cubic centimeter.\n",
    "\n",
    "This is subject to change but for the sake of our calculations, we can model our charge grid as a single cube with a width of 1 meter. This corresponds to a charge of $-4.38675962389×10^{-8}$ C and a mass of only $2.494149238×10^{-19}$ kg.\n"
   ]
  },
  {
   "cell_type": "markdown",
   "metadata": {},
   "source": []
  }
 ],
 "metadata": {
  "language_info": {
   "name": "python"
  }
 },
 "nbformat": 4,
 "nbformat_minor": 2
}
