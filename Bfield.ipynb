{
 "cells": [
  {
   "cell_type": "markdown",
   "metadata": {},
   "source": [
    "# B field expression\n",
    "\n",
    "According te book Magnetic fileds in matter, we can firstly express B field in cartesian coordinates at a point which is specified in spherical coordinates $(r, \\theta, \\phi)$. Also, considering rotation symmetry about z axis, we can assume $\\phi = 0$."
   ]
  },
  {
   "cell_type": "code",
   "execution_count": 5,
   "metadata": {},
   "outputs": [],
   "source": [
    "import numpy as np "
   ]
  },
  {
   "cell_type": "markdown",
   "metadata": {},
   "source": [
    "## Deciding \n",
    "\n",
    "Here, we decide the magnitude of the current based on the magnitude of the B field at the surface of the neutron star. The magnitude of the B field at the surface is\n",
    "\n",
    "\\begin{equation}\n",
    "    B(I) = \\frac{\\sqrt{11}}{4}\\frac{\\mu_0 I}{R}.\n",
    "\\end{equation}\n",
    "\n",
    "We take the radius of neutron star to be $11 km$ and the magnetic field to be $10^{13} T$. Then we can get the current to be $1.055*10^{23} A$."
   ]
  },
  {
   "cell_type": "code",
   "execution_count": 8,
   "metadata": {},
   "outputs": [],
   "source": [
    "mu_0 = 1.257e-6\n",
    "R = 11e3\n",
    "I = 1.055e23\n",
    "m = I*np.pi*R**2\n",
    "\n",
    "def Bneutron (r,theta):\n",
    "    B_x = mu_0/4/np.pi * (3*m*np.sin(theta)*np.cos(theta))/r**3\n",
    "    B_y = 0.\n",
    "    B_z = mu_0/4/np.pi * m*(3*(np.cos(theta))**2 - 1)/r**3\n",
    "    return B_x, B_y, B_z"
   ]
  }
 ],
 "metadata": {
  "kernelspec": {
   "display_name": "base",
   "language": "python",
   "name": "python3"
  },
  "language_info": {
   "codemirror_mode": {
    "name": "ipython",
    "version": 3
   },
   "file_extension": ".py",
   "mimetype": "text/x-python",
   "name": "python",
   "nbconvert_exporter": "python",
   "pygments_lexer": "ipython3",
   "version": "3.11.5"
  }
 },
 "nbformat": 4,
 "nbformat_minor": 2
}
