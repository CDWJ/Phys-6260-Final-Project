{
 "cells": [
  {
   "cell_type": "code",
   "execution_count": 5,
   "id": "218307cd",
   "metadata": {},
   "outputs": [],
   "source": [
    "import numpy as np\n",
    "import matplotlib.pyplot as plt"
   ]
  },
  {
   "cell_type": "code",
   "execution_count": 46,
   "id": "8c64461d",
   "metadata": {},
   "outputs": [],
   "source": [
    "q = 1.6e-19  # Charge of the electron (Coulombs)\n",
    "m = 9.11e-31  # Mass of the electron (kg)\n",
    "B = np.array([0, 1, 1])  # Magnetic field\n",
    "E = np.array([0, 1, 1])  # E field"
   ]
  },
  {
   "cell_type": "code",
   "execution_count": 47,
   "id": "306ea2cd",
   "metadata": {},
   "outputs": [],
   "source": [
    "#return vector of dv/dt from lorentz force and initial velocity\n",
    "def f(v,t): \n",
    "    vx = v[0]\n",
    "    vy = v[1]\n",
    "    vz = v[2]\n",
    "    fx = (q/m)*(E[0] + (vy * B[2]) - (vz * B[1]))\n",
    "    fy = (q/m)*(E[1] + (vz * B[0]) - (vx * B[2]))\n",
    "    fz = (q/m)*(E[2] + (vx * B[1]) - (vy * B[0]))\n",
    "    return np.array([fx,fy, fz],float)"
   ]
  },
  {
   "cell_type": "code",
   "execution_count": 48,
   "id": "78a4abdc",
   "metadata": {},
   "outputs": [],
   "source": [
    "a = 0.0\n",
    "b = 10.0\n",
    "N = 100\n",
    "h = (b-a)/N"
   ]
  },
  {
   "cell_type": "code",
   "execution_count": 49,
   "id": "87b57fa8",
   "metadata": {},
   "outputs": [],
   "source": [
    "tpoints = np.arange(a,b,h)\n",
    "v = np.zeros((N,3))\n",
    "v[0] = [1.0, 1.0, 1.0]"
   ]
  },
  {
   "cell_type": "code",
   "execution_count": 12,
   "id": "3d2852fc",
   "metadata": {},
   "outputs": [
    {
     "name": "stdout",
     "output_type": "stream",
     "text": [
      "0\n",
      "1\n",
      "2\n"
     ]
    }
   ],
   "source": [
    "for i in range(3):\n",
    "    print(i)"
   ]
  },
  {
   "cell_type": "code",
   "execution_count": 50,
   "id": "707ab023",
   "metadata": {},
   "outputs": [
    {
     "name": "stderr",
     "output_type": "stream",
     "text": [
      "/var/folders/cr/26_fdgqx001_x85910x6vll40000gn/T/ipykernel_77356/1495619009.py:7: RuntimeWarning: overflow encountered in scalar multiply\n",
      "  fy = (q/m)*(E[1] + (vz * B[0]) - (vx * B[2]))\n",
      "/var/folders/cr/26_fdgqx001_x85910x6vll40000gn/T/ipykernel_77356/1495619009.py:8: RuntimeWarning: overflow encountered in scalar multiply\n",
      "  fz = (q/m)*(E[2] + (vx * B[1]) - (vy * B[0]))\n",
      "/var/folders/cr/26_fdgqx001_x85910x6vll40000gn/T/ipykernel_77356/1495619009.py:7: RuntimeWarning: invalid value encountered in scalar multiply\n",
      "  fy = (q/m)*(E[1] + (vz * B[0]) - (vx * B[2]))\n",
      "/var/folders/cr/26_fdgqx001_x85910x6vll40000gn/T/ipykernel_77356/1495619009.py:8: RuntimeWarning: invalid value encountered in scalar multiply\n",
      "  fz = (q/m)*(E[2] + (vx * B[1]) - (vy * B[0]))\n"
     ]
    }
   ],
   "source": [
    "for i,t in enumerate(tpoints[1:],1):\n",
    "    k1 = h * f(v[i-1], t)\n",
    "    k2 = h * f(v[i-1]+0.5*k1, t+0.5*h)\n",
    "    k3 = h * f(v[i-1]+0.5*k2, t+0.5*h)\n",
    "    k4 = h * f(v[i-1]+k3, t+h)\n",
    "    v[i] = v[i-1] + (k1 + 2*k2 + 2*k3 + k4) / 6.0"
   ]
  },
  {
   "cell_type": "code",
   "execution_count": 54,
   "id": "9344bec6",
   "metadata": {},
   "outputs": [
    {
     "data": {
      "image/png": "[encoded data removed]",
      "text/plain": [
       "<Figure size 640x480 with 1 Axes>"
      ]
     },
     "metadata": {},
     "output_type": "display_data"
    }
   ],
   "source": [
    "plt.plot(tpoints, v[:,0], label='x', color = 'r')\n",
    "plt.plot(tpoints, v[:,1], label='y', color = 'b')\n",
    "plt.plot(tpoints, v[:,2], label='z', color = 'g')\n",
    "plt.xlabel(\"t\")\n",
    "plt.ylabel(\"x,y\")\n",
    "plt.show()"
   ]
  },
  {
   "cell_type": "code",
   "execution_count": null,
   "id": "c7f67eaf",
   "metadata": {},
   "outputs": [],
   "source": []
  }
 ],
 "metadata": {
  "kernelspec": {
   "display_name": "base",
   "language": "python",
   "name": "python3"
  },
  "language_info": {
   "codemirror_mode": {
    "name": "ipython",
    "version": 3
   },
   "file_extension": ".py",
   "mimetype": "text/x-python",
   "name": "python",
   "nbconvert_exporter": "python",
   "pygments_lexer": "ipython3",
   "version": "3.11.5"
  }
 },
 "nbformat": 4,
 "nbformat_minor": 5
}
